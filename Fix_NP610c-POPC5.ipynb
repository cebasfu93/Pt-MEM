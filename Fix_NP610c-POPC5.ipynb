{
 "cells": [
  {
   "cell_type": "code",
   "execution_count": 1,
   "metadata": {},
   "outputs": [],
   "source": [
    "import numpy as np"
   ]
  },
  {
   "cell_type": "code",
   "execution_count": 2,
   "metadata": {},
   "outputs": [],
   "source": [
    "def read_text_file(fname):\n",
    "    f = open(fname, 'r')\n",
    "    fl = f.readlines()\n",
    "    f.close()\n",
    "    data = []\n",
    "    \n",
    "    for line in fl:\n",
    "        if \"#\" not in line and \"@\" not in line:\n",
    "            data.append(line.split())\n",
    "    data = np.array(data, dtype='float')\n",
    "    return data\n",
    "\n",
    "nc5_raw = [read_text_file(\"PMFs/NP610c-POPC5-46_PMF.xvg\") for i in range(1)]\n",
    "nc6_raw = [read_text_file(\"PMFs/NP610c-POPC6-46_PMF_std.xvg\") for i in range(1)]"
   ]
  },
  {
   "cell_type": "code",
   "execution_count": 3,
   "metadata": {},
   "outputs": [],
   "source": [
    "def homogenize_profiles_with_std(raw_data, nice_x=np.linspace(0,5,400)):\n",
    "    clean_pmf = np.zeros((len(nice_x), len(raw_data)))\n",
    "    clean_std = np.zeros_like(clean_pmf)\n",
    "    for i, x in enumerate(nice_x):\n",
    "        for p, prof in enumerate(raw_data):\n",
    "            close_ndx = np.argsort(np.abs(prof[:,0]-x))[:2]\n",
    "            clean_pmf[i,p] = np.mean(prof[close_ndx,1])\n",
    "            clean_std[i,p] = np.mean(prof[close_ndx,2])\n",
    "    clean_pmf = clean_pmf - clean_pmf[-1,:]\n",
    "    \n",
    "    fitted_pmf = np.zeros_like(clean_pmf)\n",
    "    fitted_std = np.zeros_like(clean_std)\n",
    "    for p, (pmf, std) in enumerate(zip(clean_pmf.T, clean_std.T)):\n",
    "        pol = np.poly1d(np.polyfit(nice_x, pmf, deg=14))\n",
    "        fitted_pmf[:,p] = pol(nice_x)\n",
    "        pol_std = np.poly1d(np.polyfit(nice_x, std, deg=14))\n",
    "        fitted_std[:,p] = pol_std(nice_x)\n",
    "    fitted_pmf = fitted_pmf - fitted_pmf[-1,:]\n",
    "    return fitted_pmf, fitted_std\n",
    "\n",
    "def homogenize_profiles(raw_data, nice_x=np.linspace(0,5,400)):\n",
    "    clean_pmf = np.zeros((len(nice_x), len(raw_data)))\n",
    "    for i, x in enumerate(nice_x):\n",
    "        for p, prof in enumerate(raw_data):\n",
    "            close_ndx = np.argsort(np.abs(prof[:,0]-x))[:2]\n",
    "            clean_pmf[i,p] = np.mean(prof[close_ndx,1])\n",
    "    clean_pmf = clean_pmf - clean_pmf[-1,:]\n",
    "    \n",
    "    fitted_pmf = np.zeros_like(clean_pmf)\n",
    "    for p, pmf in enumerate(clean_pmf.T):\n",
    "        pol = np.poly1d(np.polyfit(nice_x, pmf, deg=14))\n",
    "        fitted_pmf[:,p] = pol(nice_x)\n",
    "    fitted_pmf = fitted_pmf - fitted_pmf[-1,:]\n",
    "    return fitted_pmf"
   ]
  },
  {
   "cell_type": "code",
   "execution_count": 4,
   "metadata": {},
   "outputs": [],
   "source": [
    "nice_x = np.linspace(0,5,400) #should have twice as many points since the smoothening will average two points\n",
    "nc5 = homogenize_profiles(nc5_raw, nice_x=nice_x)\n",
    "nc6 = homogenize_profiles_with_std(nc6_raw, nice_x=nice_x)"
   ]
  },
  {
   "cell_type": "code",
   "execution_count": 5,
   "metadata": {},
   "outputs": [],
   "source": [
    "f = open(\"PMFs/NP610c-POPC5-46_PMF_std.sfu\", \"w\")\n",
    "for i, x in enumerate(nice_x):\n",
    "    f.write(\"{:<10.3f} {:<10.3f} {:<10.3f}\\n\".format(x, nc5[i,0], nc6[1][i,0]))\n",
    "f.close()"
   ]
  },
  {
   "cell_type": "code",
   "execution_count": null,
   "metadata": {},
   "outputs": [],
   "source": []
  },
  {
   "cell_type": "code",
   "execution_count": 6,
   "metadata": {},
   "outputs": [],
   "source": [
    "g6r3_raw = [read_text_file(\"PMFs/gH-POPC6-46-r{}_PMF.xvg\".format(i)) for i in range(3,4)]\n",
    "g6r4_raw = [read_text_file(\"PMFs/gH-POPC6-46-r{}_PMF_std.xvg\".format(i)) for i in range(4,5)]"
   ]
  },
  {
   "cell_type": "code",
   "execution_count": 7,
   "metadata": {},
   "outputs": [],
   "source": [
    "nice_x = np.linspace(0,5,400) #should have twice as many points since the smoothening will average two points\n",
    "g6r3 = homogenize_profiles(g6r3_raw, nice_x=nice_x)\n",
    "g6r4 = homogenize_profiles_with_std(g6r4_raw, nice_x=nice_x)"
   ]
  },
  {
   "cell_type": "code",
   "execution_count": 8,
   "metadata": {},
   "outputs": [],
   "source": [
    "f = open(\"PMFs/gH-POPC6-46-r3_PMF_std.sfu\", \"w\")\n",
    "for i, x in enumerate(nice_x):\n",
    "    f.write(\"{:<10.3f} {:<10.3f} {:<10.3f}\\n\".format(x, g6r3[i,0], g6r4[1][i,0]))\n",
    "f.close()"
   ]
  },
  {
   "cell_type": "code",
   "execution_count": null,
   "metadata": {},
   "outputs": [],
   "source": []
  }
 ],
 "metadata": {
  "kernelspec": {
   "display_name": "Python 3",
   "language": "python",
   "name": "python3"
  },
  "language_info": {
   "codemirror_mode": {
    "name": "ipython",
    "version": 3
   },
   "file_extension": ".py",
   "mimetype": "text/x-python",
   "name": "python",
   "nbconvert_exporter": "python",
   "pygments_lexer": "ipython3",
   "version": "3.8.3"
  }
 },
 "nbformat": 4,
 "nbformat_minor": 2
}
